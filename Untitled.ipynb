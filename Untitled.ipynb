{
 "cells": [
  {
   "cell_type": "code",
   "execution_count": 6,
   "id": "7100fd5d-53dc-4082-a73b-39be67f8e0c1",
   "metadata": {},
   "outputs": [],
   "source": [
    "import IPython"
   ]
  },
  {
   "cell_type": "code",
   "execution_count": 1,
   "id": "c01407fc-96b9-4beb-b7e7-c617f7e1253f",
   "metadata": {},
   "outputs": [
    {
     "ename": "NameError",
     "evalue": "name 'IPython' is not defined",
     "output_type": "error",
     "traceback": [
      "\u001b[0;31m---------------------------------------------------------------------------\u001b[0m",
      "\u001b[0;31mNameError\u001b[0m                                 Traceback (most recent call last)",
      "Cell \u001b[0;32mIn[1], line 1\u001b[0m\n\u001b[0;32m----> 1\u001b[0m \u001b[43mIPython\u001b[49m\u001b[38;5;241m.\u001b[39mdisplay\u001b[38;5;241m.\u001b[39mAudio(\u001b[38;5;124mr\u001b[39m\u001b[38;5;124m'\u001b[39m\u001b[38;5;124mdriedflower.wav\u001b[39m\u001b[38;5;124m'\u001b[39m)\n",
      "\u001b[0;31mNameError\u001b[0m: name 'IPython' is not defined"
     ]
    }
   ],
   "source": [
    "IPython.display.Audio(r'driedflower.wav')"
   ]
  },
  {
   "cell_type": "code",
   "execution_count": 8,
   "id": "d1d14546-4506-4b9c-b9fd-42a066c21970",
   "metadata": {
    "scrolled": true
   },
   "outputs": [
    {
     "name": "stdout",
     "output_type": "stream",
     "text": [
      "Defaulting to user installation because normal site-packages is not writeable\n",
      "Collecting pyannotebook\n",
      "  Downloading pyannotebook-0.1.0.dev0-py3-none-any.whl (898 kB)\n",
      "\u001b[2K     \u001b[38;2;114;156;31m━━━━━━━━━━━━━━━━━━━━━━━━━━━━━━━━━━━━━━\u001b[0m \u001b[32m898.4/898.4 kB\u001b[0m \u001b[31m10.9 MB/s\u001b[0m eta \u001b[36m0:00:00\u001b[0mm eta \u001b[36m0:00:01\u001b[0m[36m0:00:01\u001b[0m\n",
      "\u001b[?25hCollecting ipyevents>=2.0.1 (from pyannotebook)\n",
      "  Downloading ipyevents-2.0.2-py3-none-any.whl.metadata (2.9 kB)\n",
      "Requirement already satisfied: ipywidgets>=7.0.0 in /home/sasufox/.local/lib/python3.11/site-packages (from pyannotebook) (8.1.1)\n",
      "Collecting networkx>=2.0.0 (from pyannotebook)\n",
      "  Downloading networkx-3.2-py3-none-any.whl.metadata (5.2 kB)\n",
      "Collecting pyannote-core>=4.5 (from pyannotebook)\n",
      "  Downloading pyannote.core-5.0.0-py3-none-any.whl (58 kB)\n",
      "\u001b[2K     \u001b[38;2;114;156;31m━━━━━━━━━━━━━━━━━━━━━━━━━━━━━━━━━━━━━━━━\u001b[0m \u001b[32m58.5/58.5 kB\u001b[0m \u001b[31m13.8 MB/s\u001b[0m eta \u001b[36m0:00:00\u001b[0m\n",
      "\u001b[?25hRequirement already satisfied: scipy>=1.0.0 in /home/sasufox/.local/lib/python3.11/site-packages (from pyannotebook) (1.11.1)\n",
      "Collecting soundfile>=0.11.0 (from pyannotebook)\n",
      "  Downloading soundfile-0.12.1-py2.py3-none-manylinux_2_31_x86_64.whl (1.2 MB)\n",
      "\u001b[2K     \u001b[38;2;114;156;31m━━━━━━━━━━━━━━━━━━━━━━━━━━━━━━━━━━━━━━━━\u001b[0m \u001b[32m1.2/1.2 MB\u001b[0m \u001b[31m44.0 MB/s\u001b[0m eta \u001b[36m0:00:00\u001b[0m\n",
      "\u001b[?25hRequirement already satisfied: comm>=0.1.3 in /home/sasufox/.local/lib/python3.11/site-packages (from ipywidgets>=7.0.0->pyannotebook) (0.1.4)\n",
      "Requirement already satisfied: ipython>=6.1.0 in /home/sasufox/.local/lib/python3.11/site-packages (from ipywidgets>=7.0.0->pyannotebook) (8.16.1)\n",
      "Requirement already satisfied: traitlets>=4.3.1 in /home/sasufox/.local/lib/python3.11/site-packages (from ipywidgets>=7.0.0->pyannotebook) (5.12.0)\n",
      "Requirement already satisfied: widgetsnbextension~=4.0.9 in /home/sasufox/.local/lib/python3.11/site-packages (from ipywidgets>=7.0.0->pyannotebook) (4.0.9)\n",
      "Requirement already satisfied: jupyterlab-widgets~=3.0.9 in /home/sasufox/.local/lib/python3.11/site-packages (from ipywidgets>=7.0.0->pyannotebook) (3.0.9)\n",
      "Collecting sortedcontainers>=2.0.4 (from pyannote-core>=4.5->pyannotebook)\n",
      "  Downloading sortedcontainers-2.4.0-py2.py3-none-any.whl (29 kB)\n",
      "Requirement already satisfied: numpy>=1.10.4 in /home/sasufox/.local/lib/python3.11/site-packages (from pyannote-core>=4.5->pyannotebook) (1.24.3)\n",
      "Requirement already satisfied: typing-extensions>=3.7.4.1 in /usr/lib/python3.11/site-packages (from pyannote-core>=4.5->pyannotebook) (4.8.0)\n",
      "Requirement already satisfied: cffi>=1.0 in /usr/lib/python3.11/site-packages (from soundfile>=0.11.0->pyannotebook) (1.16.0)\n",
      "Requirement already satisfied: pycparser in /usr/lib/python3.11/site-packages (from cffi>=1.0->soundfile>=0.11.0->pyannotebook) (2.21)\n",
      "Requirement already satisfied: backcall in /home/sasufox/.local/lib/python3.11/site-packages (from ipython>=6.1.0->ipywidgets>=7.0.0->pyannotebook) (0.2.0)\n",
      "Requirement already satisfied: decorator in /home/sasufox/.local/lib/python3.11/site-packages (from ipython>=6.1.0->ipywidgets>=7.0.0->pyannotebook) (5.1.1)\n",
      "Requirement already satisfied: jedi>=0.16 in /home/sasufox/.local/lib/python3.11/site-packages (from ipython>=6.1.0->ipywidgets>=7.0.0->pyannotebook) (0.19.1)\n",
      "Requirement already satisfied: matplotlib-inline in /home/sasufox/.local/lib/python3.11/site-packages (from ipython>=6.1.0->ipywidgets>=7.0.0->pyannotebook) (0.1.6)\n",
      "Requirement already satisfied: pickleshare in /home/sasufox/.local/lib/python3.11/site-packages (from ipython>=6.1.0->ipywidgets>=7.0.0->pyannotebook) (0.7.5)\n",
      "Requirement already satisfied: prompt-toolkit!=3.0.37,<3.1.0,>=3.0.30 in /home/sasufox/.local/lib/python3.11/site-packages (from ipython>=6.1.0->ipywidgets>=7.0.0->pyannotebook) (3.0.39)\n",
      "Requirement already satisfied: pygments>=2.4.0 in /home/sasufox/.local/lib/python3.11/site-packages (from ipython>=6.1.0->ipywidgets>=7.0.0->pyannotebook) (2.16.1)\n",
      "Requirement already satisfied: stack-data in /home/sasufox/.local/lib/python3.11/site-packages (from ipython>=6.1.0->ipywidgets>=7.0.0->pyannotebook) (0.6.3)\n",
      "Requirement already satisfied: pexpect>4.3 in /home/sasufox/.local/lib/python3.11/site-packages (from ipython>=6.1.0->ipywidgets>=7.0.0->pyannotebook) (4.8.0)\n",
      "Requirement already satisfied: parso<0.9.0,>=0.8.3 in /home/sasufox/.local/lib/python3.11/site-packages (from jedi>=0.16->ipython>=6.1.0->ipywidgets>=7.0.0->pyannotebook) (0.8.3)\n",
      "Requirement already satisfied: ptyprocess>=0.5 in /home/sasufox/.local/lib/python3.11/site-packages (from pexpect>4.3->ipython>=6.1.0->ipywidgets>=7.0.0->pyannotebook) (0.7.0)\n",
      "Requirement already satisfied: wcwidth in /home/sasufox/.local/lib/python3.11/site-packages (from prompt-toolkit!=3.0.37,<3.1.0,>=3.0.30->ipython>=6.1.0->ipywidgets>=7.0.0->pyannotebook) (0.2.8)\n",
      "Requirement already satisfied: executing>=1.2.0 in /home/sasufox/.local/lib/python3.11/site-packages (from stack-data->ipython>=6.1.0->ipywidgets>=7.0.0->pyannotebook) (2.0.0)\n",
      "Requirement already satisfied: asttokens>=2.1.0 in /home/sasufox/.local/lib/python3.11/site-packages (from stack-data->ipython>=6.1.0->ipywidgets>=7.0.0->pyannotebook) (2.4.0)\n",
      "Requirement already satisfied: pure-eval in /home/sasufox/.local/lib/python3.11/site-packages (from stack-data->ipython>=6.1.0->ipywidgets>=7.0.0->pyannotebook) (0.2.2)\n",
      "Requirement already satisfied: six>=1.12.0 in /home/sasufox/.local/lib/python3.11/site-packages (from asttokens>=2.1.0->stack-data->ipython>=6.1.0->ipywidgets>=7.0.0->pyannotebook) (1.16.0)\n",
      "Downloading ipyevents-2.0.2-py3-none-any.whl (101 kB)\n",
      "\u001b[2K   \u001b[38;2;114;156;31m━━━━━━━━━━━━━━━━━━━━━━━━━━━━━━━━━━━━━━━━\u001b[0m \u001b[32m101.8/101.8 kB\u001b[0m \u001b[31m7.4 MB/s\u001b[0m eta \u001b[36m0:00:00\u001b[0m\n",
      "\u001b[?25hDownloading networkx-3.2-py3-none-any.whl (1.6 MB)\n",
      "\u001b[2K   \u001b[38;2;114;156;31m━━━━━━━━━━━━━━━━━━━━━━━━━━━━━━━━━━━━━━━━\u001b[0m \u001b[32m1.6/1.6 MB\u001b[0m \u001b[31m61.6 MB/s\u001b[0m eta \u001b[36m0:00:00\u001b[0m\n",
      "\u001b[?25hInstalling collected packages: sortedcontainers, networkx, soundfile, pyannote-core, ipyevents, pyannotebook\n",
      "Successfully installed ipyevents-2.0.2 networkx-3.2 pyannote-core-5.0.0 pyannotebook-0.1.0.dev0 sortedcontainers-2.4.0 soundfile-0.12.1\n"
     ]
    }
   ],
   "source": [
    "!pip install pyannotebook --break-system-packages"
   ]
  },
  {
   "cell_type": "code",
   "execution_count": 4,
   "id": "6d9030d2-afa6-4909-86c3-603af684811b",
   "metadata": {},
   "outputs": [
    {
     "data": {
      "application/vnd.jupyter.widget-view+json": {
       "model_id": "676fce5843e74816908b28f811d4b43a",
       "version_major": 2,
       "version_minor": 0
      },
      "text/plain": [
       "Pyannotebook(children=(WavesurferWidget(active_label='a', audio='data:audio/x-wav;base64,UklGRgJglQZXQVZFZm10I…"
      ]
     },
     "execution_count": 4,
     "metadata": {},
     "output_type": "execute_result"
    }
   ],
   "source": [
    "from pyannotebook import Pyannotebook\n",
    "widget = Pyannotebook(\"driedflower.mp3\")\n",
    "widget"
   ]
  },
  {
   "cell_type": "code",
   "execution_count": 1,
   "id": "ef48d0fb-6aa8-4372-aee6-a89b9bdd6f0d",
   "metadata": {},
   "outputs": [],
   "source": [
    "import os\n",
    "#current_directory = os.getcwd()\n",
    "#audio_file_path = os.path.join(current_directory, 'driedflower.wav')\n",
    "#audio_file_path"
   ]
  },
  {
   "cell_type": "code",
   "execution_count": 11,
   "id": "8718ab53-b52f-497c-9a90-48b44fde0539",
   "metadata": {},
   "outputs": [],
   "source": [
    "import pyannotebook_reborn"
   ]
  },
  {
   "cell_type": "code",
   "execution_count": 12,
   "id": "0242af75-dcba-45d4-8fe1-243f86a3787d",
   "metadata": {},
   "outputs": [],
   "source": [
    "p = pyannotebook_reborn.Pyannotebook('sample.wav')"
   ]
  },
  {
   "cell_type": "code",
   "execution_count": 13,
   "id": "b32967a0-f9b3-48a6-92d1-e6bd5e12af94",
   "metadata": {
    "scrolled": true
   },
   "outputs": [
    {
     "data": {
      "application/vnd.jupyter.widget-view+json": {
       "model_id": "9a541a1877594f47abbca14e2cacc7ed",
       "version_major": 2,
       "version_minor": 0
      },
      "text/plain": [
       "Pyannotebook(audio_64='UklGRmCmDgBXQVZFZm10IBAAAAABAAEAgD4AAAB9AAACABAATElTVDQAAABJTkZPSUNNVBEAAABQcm9jZXNzZWQ…"
      ]
     },
     "execution_count": 13,
     "metadata": {},
     "output_type": "execute_result"
    }
   ],
   "source": [
    "p"
   ]
  },
  {
   "cell_type": "code",
   "execution_count": null,
   "id": "bffe317d-3adb-4ab4-8379-6ce19411513a",
   "metadata": {},
   "outputs": [],
   "source": []
  },
  {
   "cell_type": "code",
   "execution_count": null,
   "id": "3553854a-dafe-460e-9cfd-be3d5ec6ecbd",
   "metadata": {},
   "outputs": [],
   "source": []
  },
  {
   "cell_type": "code",
   "execution_count": null,
   "id": "adedda5d-5731-4b12-876f-0e7c8f5848a5",
   "metadata": {},
   "outputs": [],
   "source": []
  },
  {
   "cell_type": "code",
   "execution_count": null,
   "id": "0d02668b-ccca-41b4-b147-2286058e82f1",
   "metadata": {},
   "outputs": [],
   "source": []
  },
  {
   "cell_type": "code",
   "execution_count": null,
   "id": "27a51f98-8c1c-4913-81e9-a414bd56c888",
   "metadata": {},
   "outputs": [],
   "source": []
  },
  {
   "cell_type": "code",
   "execution_count": null,
   "id": "9d005941-f420-44af-8136-9e17a63f7292",
   "metadata": {},
   "outputs": [],
   "source": []
  },
  {
   "cell_type": "code",
   "execution_count": 4,
   "id": "c2e197c3",
   "metadata": {},
   "outputs": [
    {
     "data": {
      "text/plain": [
       "5"
      ]
     },
     "execution_count": 4,
     "metadata": {},
     "output_type": "execute_result"
    }
   ],
   "source": [
    "p.count_change"
   ]
  },
  {
   "cell_type": "code",
   "execution_count": null,
   "id": "04075c8b-7ca1-43c5-b94f-376588e479b9",
   "metadata": {},
   "outputs": [],
   "source": []
  },
  {
   "cell_type": "code",
   "execution_count": null,
   "id": "3c0b8dcf-485e-4f0b-ad19-f7edd0b30f4c",
   "metadata": {},
   "outputs": [],
   "source": []
  },
  {
   "cell_type": "code",
   "execution_count": null,
   "id": "a6c47870-ec40-4ce9-b8fd-32b711120e0d",
   "metadata": {},
   "outputs": [],
   "source": []
  },
  {
   "cell_type": "code",
   "execution_count": 6,
   "id": "e70c2406-293d-4ef5-942d-fa705abc9b78",
   "metadata": {},
   "outputs": [
    {
     "name": "stdout",
     "output_type": "stream",
     "text": [
      "ANNOTATION :\n"
     ]
    }
   ],
   "source": [
    "print(f'ANNOTATION :{p.annotation}')"
   ]
  },
  {
   "cell_type": "code",
   "execution_count": 7,
   "id": "23c56d7b-96b0-45d3-8931-b1ca1fb6fd23",
   "metadata": {},
   "outputs": [
    {
     "data": {
      "text/plain": [
       "[{'start': 1.7320001220703125,\n",
       "  'end': 3.5520001220703126,\n",
       "  'id': 'region-ihuotg9d958',\n",
       "  'label': 'A'},\n",
       " {'start': 3.3120001220703115,\n",
       "  'end': 4.232000122070313,\n",
       "  'id': 'region-613glba4ssk',\n",
       "  'label': 'B'}]"
      ]
     },
     "execution_count": 7,
     "metadata": {},
     "output_type": "execute_result"
    }
   ],
   "source": [
    "p.jpp['new']"
   ]
  },
  {
   "cell_type": "code",
   "execution_count": 5,
   "id": "6fed25e1-8187-42d0-96a4-b65f79d22811",
   "metadata": {},
   "outputs": [
    {
     "data": {
      "text/plain": [
       "[{'start': 3.46,\n",
       "  'end': 7.379999999999998,\n",
       "  'id': 'region-c0aohug05lo',\n",
       "  'label': 'A'},\n",
       " {'start': 8.62,\n",
       "  'end': 12.919999999999995,\n",
       "  'id': 'region-qo9uttn9epo',\n",
       "  'label': 'D'},\n",
       " {'start': 13.66, 'end': 18.54, 'id': 'region-9emu7uqnnm', 'label': 'B'}]"
      ]
     },
     "execution_count": 5,
     "metadata": {},
     "output_type": "execute_result"
    }
   ],
   "source": [
    "p.regions"
   ]
  },
  {
   "cell_type": "code",
   "execution_count": 4,
   "id": "d45305d0-9469-47db-8719-f620cf3b014f",
   "metadata": {},
   "outputs": [
    {
     "name": "stdout",
     "output_type": "stream",
     "text": [
      "Annotation =  [ 00:00:06.690 -->  00:00:07.120] hwkkkyhlevyqzpzbxgye_000000 speaker90\n",
      "[ 00:00:07.550 -->  00:00:08.350] nxhcfmiqrfavascbhqpa_000001 speaker91\n",
      "[ 00:00:08.320 -->  00:00:10.020] zsbybvsbbzpaquztbisd_000002 speaker90\n",
      "[ 00:00:09.920 -->  00:00:11.030] mpnndcubjlwbsvsgqjxi_000003 speaker91\n",
      "[ 00:00:10.570 -->  00:00:14.700] kmfillstluzptuafhdhy_000004 speaker90\n",
      "[ 00:00:14.490 -->  00:00:17.920] pvglatreutaahjjdatwt_000005 speaker91\n",
      "[ 00:00:18.050 -->  00:00:21.490] rzyltkpderfcczucuuum_000006 speaker90\n",
      "[ 00:00:18.150 -->  00:00:18.590] ivuapkbupdpjukqdxiyj_000007 speaker91\n",
      "[ 00:00:21.780 -->  00:00:28.500] ppfleynifrpmhlzlidxy_000008 speaker91\n",
      "[ 00:00:27.850 -->  00:00:30.000] xdhbsxpijvjfzvbpigtu_000009 speaker90\n"
     ]
    }
   ],
   "source": [
    "from pyannotebook_reborn import load_rttm\n",
    "annotation = load_rttm(\"sample.rttm\")[\"sample\"]\n",
    "# ... and assign them to the `annotation` property\n",
    "p.annotation = annotation"
   ]
  },
  {
   "cell_type": "code",
   "execution_count": null,
   "id": "1e20098c",
   "metadata": {},
   "outputs": [],
   "source": []
  },
  {
   "cell_type": "code",
   "execution_count": 5,
   "id": "80cae1ce-914d-47d6-b3d3-955484ca0555",
   "metadata": {},
   "outputs": [
    {
     "name": "stdout",
     "output_type": "stream",
     "text": [
      "True\n"
     ]
    }
   ],
   "source": [
    "# check that it does indeed return an `Annotation` instance\n",
    "from pyannote.core import Annotation\n",
    "print(isinstance(p.annotation, Annotation))"
   ]
  },
  {
   "cell_type": "code",
   "execution_count": 14,
   "id": "5e427831-9f0c-4aff-867e-32c290975bf4",
   "metadata": {},
   "outputs": [],
   "source": [
    "# Write your annotations and save it\n",
    "with open(\"manual.rttm\", \"w\") as rttm: \n",
    "    p.annotation.write_rttm(rttm)"
   ]
  },
  {
   "cell_type": "code",
   "execution_count": 10,
   "id": "8c554323-3a1e-47fa-9781-bc75a2749d8f",
   "metadata": {},
   "outputs": [],
   "source": [
    "# Test it now \n",
    "\n",
    "from pyannotebook_reborn import load_rttm\n",
    "annotation = load_rttm(\"manual.rttm\")[\"\"]\n",
    "# ... and assign them to the `annotation` property\n",
    "p.annotation = annotation"
   ]
  },
  {
   "cell_type": "code",
   "execution_count": 4,
   "id": "e0c668bf-7018-47ee-b325-9299714466ae",
   "metadata": {},
   "outputs": [
    {
     "name": "stdout",
     "output_type": "stream",
     "text": [
      "<_io.TextIOWrapper name='03125.uem' mode='r' encoding='cp1252'>\n"
     ]
    }
   ],
   "source": [
    "p.load_timelines(\"03125.uem\")"
   ]
  },
  {
   "cell_type": "code",
   "execution_count": null,
   "id": "6118036a-2644-4dad-854e-0543e597f62d",
   "metadata": {},
   "outputs": [],
   "source": []
  },
  {
   "cell_type": "code",
   "execution_count": null,
   "id": "73504c02-a42a-4af9-8099-1a5babe4c7ee",
   "metadata": {},
   "outputs": [],
   "source": []
  }
 ],
 "metadata": {
  "kernelspec": {
   "display_name": "Python 3 (ipykernel)",
   "language": "python",
   "name": "python3"
  },
  "language_info": {
   "codemirror_mode": {
    "name": "ipython",
    "version": 3
   },
   "file_extension": ".py",
   "mimetype": "text/x-python",
   "name": "python",
   "nbconvert_exporter": "python",
   "pygments_lexer": "ipython3",
   "version": "3.11.7"
  }
 },
 "nbformat": 4,
 "nbformat_minor": 5
}
